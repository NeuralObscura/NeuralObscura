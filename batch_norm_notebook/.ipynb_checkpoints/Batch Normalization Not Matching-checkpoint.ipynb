{
 "cells": [
  {
   "cell_type": "code",
   "execution_count": 1,
   "metadata": {
    "collapsed": false
   },
   "outputs": [],
   "source": [
    "import os\n",
    "import sys\n",
    "import numpy as np\n",
    "np.set_printoptions(threshold=np.nan)\n",
    "np.set_printoptions(suppress=True)\n",
    "import net\n",
    "from chainer import serializers\n",
    "import itertools\n",
    "from PIL import Image\n",
    "from chainer import Variable\n",
    "import chainer.functions as F\n",
    "\n",
    "# Monkey Patch the existing model to stop early\n",
    "\n",
    "class FastStyleNet(net.FastStyleNet):\n",
    "    def __call__(self, x, test=False):\n",
    "        return (F.relu(self.c1(x)), self.b1(F.relu(self.c1(x))))\n",
    "\n"
   ]
  },
  {
   "cell_type": "code",
   "execution_count": 2,
   "metadata": {
    "collapsed": false
   },
   "outputs": [],
   "source": [
    "model = FastStyleNet()\n",
    "serializers.load_npz(\"composition.model\", model)"
   ]
  },
  {
   "cell_type": "code",
   "execution_count": 3,
   "metadata": {
    "collapsed": false
   },
   "outputs": [
    {
     "name": "stdout",
     "output_type": "stream",
     "text": [
      "Mean shape (32,)\n",
      "Varience shape (32,)\n",
      "Gamma shape (32,)\n",
      "Beta shape (32,)\n"
     ]
    }
   ],
   "source": [
    "children = [c for c in model.children()]\n",
    "assert(children[7].name == 'b1')\n",
    "bn_1 = children[7]\n",
    "\n",
    "mean = bn_1.avg_mean\n",
    "print(\"Mean shape {}\".format(mean.shape))\n",
    "var = bn_1.avg_var\n",
    "print(\"Varience shape {}\".format(var.shape))\n",
    "gamma = bn_1.gamma.data\n",
    "print(\"Gamma shape {}\".format(gamma.shape))\n",
    "beta = bn_1.beta.data\n",
    "print(\"Beta shape {}\".format(beta.shape))\n",
    "\n"
   ]
  },
  {
   "cell_type": "code",
   "execution_count": 4,
   "metadata": {
    "collapsed": false,
    "scrolled": true
   },
   "outputs": [
    {
     "data": {
      "text/plain": [
       "array([  103.93418884,   680.90588379,   193.65853882,     3.88535857,\n",
       "          11.98835373,    52.39965439,    -0.9958545 ,   401.38101196,\n",
       "          17.47663116,    30.36069489,   377.73318481,    44.72660446,\n",
       "          -0.75540841,    80.77835083,  1155.65454102,   279.62261963,\n",
       "          -0.99879116,  1763.44055176,   200.7883606 ,  2321.05834961,\n",
       "          21.22820282,    18.97494125,   643.20300293,     8.17135239,\n",
       "         522.50549316,    18.31219864,    19.47445297,  1400.16711426,\n",
       "           0.5746929 ,     2.75701714,  1206.83654785,    -0.99886948], dtype=float32)"
      ]
     },
     "execution_count": 4,
     "metadata": {},
     "output_type": "execute_result"
    }
   ],
   "source": [
    "mean"
   ]
  },
  {
   "cell_type": "code",
   "execution_count": 5,
   "metadata": {
    "collapsed": false
   },
   "outputs": [
    {
     "data": {
      "text/plain": [
       "array([  102519.78125   ,   149265.515625  ,    72586.625     ,\n",
       "           3750.6171875 ,     8285.23242188,    49682.18359375,\n",
       "              0.38731861,   122977.6015625 ,    20060.52734375,\n",
       "          10749.55664062,   149974.703125  ,    58197.625     ,\n",
       "             82.53164673,    88939.7578125 ,   483900.40625   ,\n",
       "          40768.2265625 ,        0.03030536,   756819.375     ,\n",
       "          66306.40625   ,  2078815.375     ,    24199.24609375,\n",
       "          20034.453125  ,   194666.578125  ,    10584.03613281,\n",
       "         181137.71875   ,    10575.22851562,    12338.12304688,\n",
       "         588502.6875    ,      894.00628662,     3945.00317383,\n",
       "         577572.5625    ,        0.00120346], dtype=float32)"
      ]
     },
     "execution_count": 5,
     "metadata": {},
     "output_type": "execute_result"
    }
   ],
   "source": [
    "var"
   ]
  },
  {
   "cell_type": "code",
   "execution_count": 6,
   "metadata": {
    "collapsed": false
   },
   "outputs": [
    {
     "data": {
      "text/plain": [
       "array([ 1.00102293,  0.88111418,  1.09259653,  0.57821822,  1.15483212,\n",
       "        1.01314473,  0.62010455,  0.83246326,  1.03261149,  0.90519488,\n",
       "        1.54438639,  0.69640052,  0.17331724,  0.23100287,  0.51325935,\n",
       "        1.1196214 ,  0.55528557,  0.68226719,  0.38600913,  0.59523541,\n",
       "        0.81616235,  0.8009913 ,  0.54186606,  0.49630061,  1.29424131,\n",
       "        0.72697777,  0.43986902,  0.41202006,  0.60653907,  0.22496644,\n",
       "        0.66279858, -0.05484512], dtype=float32)"
      ]
     },
     "execution_count": 6,
     "metadata": {},
     "output_type": "execute_result"
    }
   ],
   "source": [
    "gamma"
   ]
  },
  {
   "cell_type": "code",
   "execution_count": 7,
   "metadata": {
    "collapsed": false
   },
   "outputs": [
    {
     "data": {
      "text/plain": [
       "array([ 0.04699705,  0.3167941 , -0.06825395, -0.016859  ,  0.13698326,\n",
       "       -0.03476595, -0.08942866, -0.11700913, -0.06677331,  0.19342533,\n",
       "        0.1001935 , -0.09063713, -0.00070113, -0.21591789,  0.06425538,\n",
       "        0.10005861,  0.03903868,  0.01761379,  0.09179903,  0.33452052,\n",
       "        0.10380372, -0.19845507,  0.16474192,  0.02570202,  0.25330725,\n",
       "        0.03662817, -0.07720935,  0.04978193,  0.02301755, -0.17946987,\n",
       "        0.02594666,  0.08985374], dtype=float32)"
      ]
     },
     "execution_count": 7,
     "metadata": {},
     "output_type": "execute_result"
    }
   ],
   "source": [
    "beta"
   ]
  },
  {
   "cell_type": "code",
   "execution_count": 8,
   "metadata": {
    "collapsed": false
   },
   "outputs": [],
   "source": [
    "\n",
    "image = np.asarray(Image.open(\"../NeuralObscura/debug2.png\").convert('RGB'), dtype=np.float32).transpose(2, 0, 1)\n",
    "image = image.reshape((1,) + image.shape)\n",
    "x = Variable(image)\n",
    "\n",
    "convolution_output = model(x)[0].data\n",
    "bn_output = model(x)[1].data"
   ]
  },
  {
   "cell_type": "code",
   "execution_count": 9,
   "metadata": {
    "collapsed": false
   },
   "outputs": [
    {
     "data": {
      "text/plain": [
       "array([[[[   0.        ,    0.        ],\n",
       "         [ 138.05825806,    0.        ]],\n",
       "\n",
       "        [[ 665.05975342,  294.41912842],\n",
       "         [ 565.12530518,  223.25534058]],\n",
       "\n",
       "        [[   0.        ,    0.        ],\n",
       "         [   0.        ,    0.        ]],\n",
       "\n",
       "        [[ 150.97875977,    0.        ],\n",
       "         [  42.12826538,    0.        ]],\n",
       "\n",
       "        [[ 168.52218628,  226.41992188],\n",
       "         [ 493.01873779,  488.8225708 ]],\n",
       "\n",
       "        [[   0.        ,    0.        ],\n",
       "         [   0.        ,    0.        ]],\n",
       "\n",
       "        [[   0.        ,    0.        ],\n",
       "         [   0.        ,    0.        ]],\n",
       "\n",
       "        [[   0.        ,    0.        ],\n",
       "         [   0.        ,   21.47010231]],\n",
       "\n",
       "        [[   0.        ,    0.        ],\n",
       "         [   0.        ,    0.        ]],\n",
       "\n",
       "        [[   0.        ,    0.        ],\n",
       "         [   0.        ,    0.        ]],\n",
       "\n",
       "        [[ 369.86483765,   22.19602585],\n",
       "         [ 309.60726929,    0.        ]],\n",
       "\n",
       "        [[  92.57032776,    0.        ],\n",
       "         [ 225.40206909,    0.        ]],\n",
       "\n",
       "        [[   0.        ,    0.        ],\n",
       "         [   0.        ,    0.        ]],\n",
       "\n",
       "        [[  16.7428093 ,  154.36772156],\n",
       "         [   0.        ,    0.        ]],\n",
       "\n",
       "        [[ 233.59518433,  198.44728088],\n",
       "         [ 153.32640076,  116.89186096]],\n",
       "\n",
       "        [[ 349.07214355,  189.3309021 ],\n",
       "         [   0.        ,    0.        ]],\n",
       "\n",
       "        [[   0.        ,    0.        ],\n",
       "         [   0.        ,    0.        ]],\n",
       "\n",
       "        [[ 125.12889099,  153.03417969],\n",
       "         [ 244.13459778,  257.48431396]],\n",
       "\n",
       "        [[ 499.71289062,  353.0145874 ],\n",
       "         [ 473.65011597,  323.06359863]],\n",
       "\n",
       "        [[   0.        ,    0.        ],\n",
       "         [  11.93847466,    0.        ]],\n",
       "\n",
       "        [[   0.        ,    0.        ],\n",
       "         [   0.        ,    0.        ]],\n",
       "\n",
       "        [[   0.        ,    0.        ],\n",
       "         [   0.        ,    0.        ]],\n",
       "\n",
       "        [[ 130.35574341,  348.35339355],\n",
       "         [   0.        ,    0.        ]],\n",
       "\n",
       "        [[   0.        ,    0.        ],\n",
       "         [   0.        ,    0.        ]],\n",
       "\n",
       "        [[   0.        ,  254.32894897],\n",
       "         [ 211.62271118,  481.43704224]],\n",
       "\n",
       "        [[ 539.93554688,  240.27659607],\n",
       "         [ 196.46508789,    0.        ]],\n",
       "\n",
       "        [[ 455.0083313 ,  149.47421265],\n",
       "         [ 292.49224854,   68.10665894]],\n",
       "\n",
       "        [[   0.        ,    0.        ],\n",
       "         [  22.6339283 ,    0.        ]],\n",
       "\n",
       "        [[  96.78022766,  394.33001709],\n",
       "         [   9.58470726,  370.24813843]],\n",
       "\n",
       "        [[ 209.50053406,    0.        ],\n",
       "         [ 301.7038269 ,   23.78199768]],\n",
       "\n",
       "        [[ 349.48901367,    0.        ],\n",
       "         [ 378.39672852,   60.13803864]],\n",
       "\n",
       "        [[   0.        ,    0.        ],\n",
       "         [   0.        ,    0.        ]]]], dtype=float32)"
      ]
     },
     "execution_count": 9,
     "metadata": {},
     "output_type": "execute_result"
    }
   ],
   "source": [
    "convolution_output"
   ]
  },
  {
   "cell_type": "code",
   "execution_count": 10,
   "metadata": {
    "collapsed": false
   },
   "outputs": [
    {
     "data": {
      "text/plain": [
       "array([[[[-0.53094375, -0.53094375],\n",
       "         [ 1.78081965, -0.53094375]],\n",
       "\n",
       "        [[ 1.41303968, -0.36829454],\n",
       "         [ 0.93274522, -0.71031445]],\n",
       "\n",
       "        [[-0.06825395, -0.06825395],\n",
       "         [-0.06825395, -0.06825395]],\n",
       "\n",
       "        [[ 0.94499993, -0.46899652],\n",
       "         [-0.07444289, -0.46899652]],\n",
       "\n",
       "        [[-1.23236632, -0.78106225],\n",
       "         [ 1.29703486,  1.26432645]],\n",
       "\n",
       "        [[-0.03476595, -0.03476595],\n",
       "         [-0.03476595, -0.03476595]],\n",
       "\n",
       "        [[-0.08942866, -0.08942866],\n",
       "         [-0.08942866, -0.08942866]],\n",
       "\n",
       "        [[-0.59763193, -0.59763193],\n",
       "         [-0.59763193,  1.32485938]],\n",
       "\n",
       "        [[-0.06677331, -0.06677331],\n",
       "         [-0.06677331, -0.06677331]],\n",
       "\n",
       "        [[ 0.19342533,  0.19342533],\n",
       "         [ 0.19342533,  0.19342533]],\n",
       "\n",
       "        [[ 1.91055298, -1.32633364],\n",
       "         [ 1.3495394 , -1.53298438]],\n",
       "\n",
       "        [[ 0.00799886, -0.69022018],\n",
       "         [ 1.00989282, -0.69022018]],\n",
       "\n",
       "        [[-0.00070113, -0.00070113],\n",
       "         [-0.00070113, -0.00070113]],\n",
       "\n",
       "        [[-0.30874535,  0.1819579 ],\n",
       "         [-0.36844203, -0.36844203]],\n",
       "\n",
       "        [[ 0.73752439,  0.32973543],\n",
       "         [-0.1937609 , -0.61647761]],\n",
       "\n",
       "        [[ 1.74510872,  0.5198527 ],\n",
       "         [-0.93236369, -0.93236369]],\n",
       "\n",
       "        [[ 0.03903868,  0.03903868],\n",
       "         [ 0.03903868,  0.03903868]],\n",
       "\n",
       "        [[-0.81917167, -0.48471341],\n",
       "         [ 0.60716867,  0.7671715 ]],\n",
       "\n",
       "        [[ 0.53760874, -0.21107563],\n",
       "         [ 0.40459561, -0.36393243]],\n",
       "\n",
       "        [[-0.0091387 , -0.0091387 ],\n",
       "         [ 1.36549807, -0.0091387 ]],\n",
       "\n",
       "        [[ 0.10380372,  0.10380372],\n",
       "         [ 0.10380372,  0.10380372]],\n",
       "\n",
       "        [[-0.19845507, -0.19845507],\n",
       "         [-0.19845507, -0.19845507]],\n",
       "\n",
       "        [[ 0.20539078,  1.03522551],\n",
       "         [-0.29082429, -0.29082429]],\n",
       "\n",
       "        [[ 0.02570202,  0.02570202],\n",
       "         [ 0.02570202,  0.02570202]],\n",
       "\n",
       "        [[-1.54008603,  0.38567829],\n",
       "         [ 0.0623091 ,  2.10532784]],\n",
       "\n",
       "        [[ 1.14923835,  0.0219846 ],\n",
       "         [-0.14282507, -0.88188535]],\n",
       "\n",
       "        [[ 0.56131274, -0.35144168],\n",
       "         [ 0.07581123, -0.59451962]],\n",
       "\n",
       "        [[-0.18809792, -0.18809792],\n",
       "         [ 0.76342148, -0.18809792]],\n",
       "\n",
       "        [[-0.41463181,  0.66198248],\n",
       "         [-0.73012841,  0.57484782]],\n",
       "\n",
       "        [[-0.04466511, -0.41747296],\n",
       "         [ 0.11941136, -0.37515271]],\n",
       "\n",
       "        [[ 0.62540227, -0.74854141],\n",
       "         [ 0.73904693, -0.5121212 ]],\n",
       "\n",
       "        [[ 0.08985374,  0.08985374],\n",
       "         [ 0.08985374,  0.08985374]]]], dtype=float32)"
      ]
     },
     "execution_count": 10,
     "metadata": {},
     "output_type": "execute_result"
    }
   ],
   "source": [
    "bn_output"
   ]
  },
  {
   "cell_type": "code",
   "execution_count": 21,
   "metadata": {
    "collapsed": false
   },
   "outputs": [
    {
     "data": {
      "text/plain": [
       "-0.32460454"
      ]
     },
     "execution_count": 21,
     "metadata": {},
     "output_type": "execute_result"
    }
   ],
   "source": [
    "x = convolution_output[0][0][0][0]\n",
    "assert(x == 0.)\n",
    "mean_k = mean[0]\n",
    "var_k = var[0]\n",
    "std_k = np.sqrt(var_k)\n",
    "\n",
    "(x - mean_k) / std_k"
   ]
  },
  {
   "cell_type": "code",
   "execution_count": 22,
   "metadata": {
    "collapsed": false
   },
   "outputs": [
    {
     "data": {
      "text/plain": [
       "-0.27793956"
      ]
     },
     "execution_count": 22,
     "metadata": {},
     "output_type": "execute_result"
    }
   ],
   "source": [
    "gamma_k = gamma[0]\n",
    "beta_k = beta[0]\n",
    "x_k = (x - mean_k) / std_k\n",
    "(x_k * gamma_k) + beta_k"
   ]
  },
  {
   "cell_type": "code",
   "execution_count": 23,
   "metadata": {
    "collapsed": false
   },
   "outputs": [
    {
     "ename": "AssertionError",
     "evalue": "",
     "output_type": "error",
     "traceback": [
      "\u001b[0;31m---------------------------------------------------------------------------\u001b[0m",
      "\u001b[0;31mAssertionError\u001b[0m                            Traceback (most recent call last)",
      "\u001b[0;32m<ipython-input-23-f174d8da6b1c>\u001b[0m in \u001b[0;36m<module>\u001b[0;34m()\u001b[0m\n\u001b[1;32m      1\u001b[0m \u001b[0my_k\u001b[0m \u001b[0;34m=\u001b[0m \u001b[0;34m(\u001b[0m\u001b[0mx_k\u001b[0m \u001b[0;34m*\u001b[0m \u001b[0mgamma_k\u001b[0m\u001b[0;34m)\u001b[0m \u001b[0;34m+\u001b[0m \u001b[0mbeta_k\u001b[0m\u001b[0;34m\u001b[0m\u001b[0m\n\u001b[0;32m----> 2\u001b[0;31m \u001b[0;32massert\u001b[0m\u001b[0;34m(\u001b[0m\u001b[0my_k\u001b[0m \u001b[0;34m==\u001b[0m \u001b[0mbn_output\u001b[0m\u001b[0;34m[\u001b[0m\u001b[0;36m0\u001b[0m\u001b[0;34m]\u001b[0m\u001b[0;34m[\u001b[0m\u001b[0;36m0\u001b[0m\u001b[0;34m]\u001b[0m\u001b[0;34m[\u001b[0m\u001b[0;36m0\u001b[0m\u001b[0;34m]\u001b[0m\u001b[0;34m[\u001b[0m\u001b[0;36m0\u001b[0m\u001b[0;34m]\u001b[0m\u001b[0;34m)\u001b[0m\u001b[0;34m\u001b[0m\u001b[0m\n\u001b[0m",
      "\u001b[0;31mAssertionError\u001b[0m: "
     ]
    }
   ],
   "source": [
    "y_k = (x_k * gamma_k) + beta_k\n",
    "assert(y_k == bn_output[0][0][0][0])"
   ]
  },
  {
   "cell_type": "code",
   "execution_count": 24,
   "metadata": {
    "collapsed": false
   },
   "outputs": [
    {
     "data": {
      "text/plain": [
       "-0.53094375"
      ]
     },
     "execution_count": 24,
     "metadata": {},
     "output_type": "execute_result"
    }
   ],
   "source": [
    "bn_output[0][0][0][0]"
   ]
  },
  {
   "cell_type": "code",
   "execution_count": null,
   "metadata": {
    "collapsed": true
   },
   "outputs": [],
   "source": []
  }
 ],
 "metadata": {
  "kernelspec": {
   "display_name": "Python 2",
   "language": "python",
   "name": "python2"
  },
  "language_info": {
   "codemirror_mode": {
    "name": "ipython",
    "version": 2
   },
   "file_extension": ".py",
   "mimetype": "text/x-python",
   "name": "python",
   "nbconvert_exporter": "python",
   "pygments_lexer": "ipython2",
   "version": "2.7.12"
  }
 },
 "nbformat": 4,
 "nbformat_minor": 0
}
